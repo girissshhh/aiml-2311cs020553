{
  "nbformat": 4,
  "nbformat_minor": 0,
  "metadata": {
    "colab": {
      "provenance": [],
      "authorship_tag": "ABX9TyNIft3ArP0e8/YGUqlqMwS8",
      "include_colab_link": true
    },
    "kernelspec": {
      "name": "python3",
      "display_name": "Python 3"
    },
    "language_info": {
      "name": "python"
    }
  },
  "cells": [
    {
      "cell_type": "markdown",
      "metadata": {
        "id": "view-in-github",
        "colab_type": "text"
      },
      "source": [
        "<a href=\"https://colab.research.google.com/github/girissshhh/aiml-2311cs020553/blob/main/day7.ipynb\" target=\"_parent\"><img src=\"https://colab.research.google.com/assets/colab-badge.svg\" alt=\"Open In Colab\"/></a>"
      ]
    },
    {
      "cell_type": "code",
      "execution_count": 1,
      "metadata": {
        "colab": {
          "base_uri": "https://localhost:8080/"
        },
        "id": "LpzjyQQSdL2q",
        "outputId": "6c66f60d-31d3-42d2-9125-70eabe138503"
      },
      "outputs": [
        {
          "output_type": "stream",
          "name": "stdout",
          "text": [
            "200\n",
            "<list_iterator object at 0x79e698501480>\n",
            "none\n",
            "none\n",
            "none\n",
            "none\n",
            "none\n",
            "7\n",
            "8\n",
            "9\n",
            "none\n",
            "none\n",
            "none\n",
            "none\n",
            "none\n",
            "none\n",
            "7\n",
            "8\n",
            "9\n",
            "10\n",
            "0\n",
            "0\n",
            "1\n",
            "4\n",
            "9\n",
            "16\n",
            "25\n",
            "36\n",
            "49\n",
            "64\n",
            "81\n",
            "None\n"
          ]
        }
      ],
      "source": [
        "# lambda\n",
        "result = lambda x,y:x*y\n",
        "print(result(10,20))\n",
        "\n",
        "#iterator\n",
        "lst1=[1,2,3,4,5,6]\n",
        "itera_val=iter(lst1)\n",
        "print(itera_val)\n",
        "type(itera_val)\n",
        "\n",
        "# for i in range(10):\n",
        "i=[1,2,3,4,5,6,7,8]\n",
        "res=iter(i) #here we are using the for loop to repeat all the times\n",
        "for j in res:\n",
        "  if (j>5):\n",
        "    print(j+1)\n",
        "# if i in res>5:\n",
        "#   print(res+1)\n",
        "  else:\n",
        "    print(\"none\")\n",
        "\n",
        "\n",
        "\n",
        "#iterator\n",
        "for i in range(10):\n",
        "  if i>5:\n",
        "    print(i+1)\n",
        "  else:\n",
        "    print(\"none\")\n",
        "\n",
        "\n",
        "\n",
        "#Generator\n",
        "# without generator\n",
        "def square(i):\n",
        "  for i in range(i):\n",
        "    i = i**2\n",
        "  return i\n",
        "res = square(1)\n",
        "print(res)\n",
        "\n",
        "\n",
        "\n",
        "#with generator for square of the number\n",
        "def square(i):\n",
        "  for i in range(i):\n",
        "    i=i**2 # i+1 for the addition of the number\n",
        "    yield i\n",
        "square(10)\n",
        "for i in square(10):\n",
        "  print(i)\n",
        "\n",
        "\n",
        "\n",
        "def sample(item):\n",
        "  item = item.upper()\n",
        "def low(item):\n",
        "  item = item.lower()\n",
        "def add(item):\n",
        "  item = item+1\n",
        "result=sample\n",
        "\n",
        "print(result('hello'))"
      ]
    }
  ]
}