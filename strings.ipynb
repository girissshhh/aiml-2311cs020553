{
  "nbformat": 4,
  "nbformat_minor": 0,
  "metadata": {
    "colab": {
      "provenance": [],
      "authorship_tag": "ABX9TyOLBdhOminGhZ1oEZoM4J16",
      "include_colab_link": true
    },
    "kernelspec": {
      "name": "python3",
      "display_name": "Python 3"
    },
    "language_info": {
      "name": "python"
    }
  },
  "cells": [
    {
      "cell_type": "markdown",
      "metadata": {
        "id": "view-in-github",
        "colab_type": "text"
      },
      "source": [
        "<a href=\"https://colab.research.google.com/github/girissshhh/aiml-2311cs020553/blob/main/strings.ipynb\" target=\"_parent\"><img src=\"https://colab.research.google.com/assets/colab-badge.svg\" alt=\"Open In Colab\"/></a>"
      ]
    },
    {
      "cell_type": "code",
      "execution_count": 1,
      "metadata": {
        "colab": {
          "base_uri": "https://localhost:8080/"
        },
        "id": "xfFbW7p8fDs3",
        "outputId": "ffa1fa3c-93e2-47f4-9ba5-b75eea6427d2"
      },
      "outputs": [
        {
          "output_type": "stream",
          "name": "stdout",
          "text": [
            "w\n",
            "w\n"
          ]
        }
      ],
      "source": [
        "string = \"do what i say to the world\"\n",
        "for word in string.split():\n",
        "    # if len(word) % 2 == 0:\n",
        "    #     print(word)\n",
        "#find the length of the string if the length of the string is more than 3 print the first letter of the word\n",
        "    if len(word) > 3:\n",
        "        print(word[0])\n",
        "#"
      ]
    }
  ]
}