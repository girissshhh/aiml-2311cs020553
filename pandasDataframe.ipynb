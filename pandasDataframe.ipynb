{
  "nbformat": 4,
  "nbformat_minor": 0,
  "metadata": {
    "colab": {
      "provenance": [],
      "authorship_tag": "ABX9TyO/3da6Ir7e6COWB7zSFH6O",
      "include_colab_link": true
    },
    "kernelspec": {
      "name": "python3",
      "display_name": "Python 3"
    },
    "language_info": {
      "name": "python"
    }
  },
  "cells": [
    {
      "cell_type": "markdown",
      "metadata": {
        "id": "view-in-github",
        "colab_type": "text"
      },
      "source": [
        "<a href=\"https://colab.research.google.com/github/girissshhh/aiml-2311cs020553/blob/main/pandasDataframe.ipynb\" target=\"_parent\"><img src=\"https://colab.research.google.com/assets/colab-badge.svg\" alt=\"Open In Colab\"/></a>"
      ]
    },
    {
      "cell_type": "code",
      "execution_count": null,
      "metadata": {
        "id": "kt_ZCEvIgKWC"
      },
      "outputs": [],
      "source": [
        "from google.colab import files\n",
        "import pandas as pd\n",
        "upload=files.upload()\n",
        "aaa=list(upload.keys())[0]\n",
        "df=pd.read_csv(aaa)\n",
        "df.head(20)\n",
        "df.head() #code to show the first 5 rows\n",
        "df.head(20) # code to show the first 20 rows\n",
        "df.tail(120) #code to show the last 20 wors\n",
        "df.iloc[[1,3,5,7]]\n",
        "df.loc[[1,3,5,7]]\n",
        "df.iloc[1:20,2:5] #filter a datafrmae and print 15 rows wors starts from 5 and column nam should be city and country\n",
        "df.head(10)\n",
        "df.iloc[1:50,2:5] #iloc is used to specify the specific index 1:50(rows), 2:5(columns)\n",
        "#filter the dataframe with rows and columns by using iloc rows starting from 5 to 60\n",
        "df.iloc[5:60,4:7]\n",
        "df.describe()\n",
        "df.shape[0]\n",
        "# company name as \"Vega-Gentry\"\n",
        "# data=df['First Name'] == 'Preston'\n",
        "# print(data)\n",
        "# df['First Name'] == 'Preston'\n",
        "df['Company'] == 'Vega-Gentry' #\n",
        "df.drop('Phone 2',axis =1) #deleting the phone number\n",
        "df.isnull()\n",
        "\n",
        "\n",
        "\n",
        "\n"
      ]
    }
  ]
}