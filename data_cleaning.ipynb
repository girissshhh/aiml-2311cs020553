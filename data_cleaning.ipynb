{
  "nbformat": 4,
  "nbformat_minor": 0,
  "metadata": {
    "colab": {
      "provenance": [],
      "authorship_tag": "ABX9TyNed+F9GtHFmXPsrL05ONQf",
      "include_colab_link": true
    },
    "kernelspec": {
      "name": "python3",
      "display_name": "Python 3"
    },
    "language_info": {
      "name": "python"
    }
  },
  "cells": [
    {
      "cell_type": "markdown",
      "metadata": {
        "id": "view-in-github",
        "colab_type": "text"
      },
      "source": [
        "<a href=\"https://colab.research.google.com/github/girissshhh/aiml-2311cs020553/blob/main/data_cleaning.ipynb\" target=\"_parent\"><img src=\"https://colab.research.google.com/assets/colab-badge.svg\" alt=\"Open In Colab\"/></a>"
      ]
    },
    {
      "cell_type": "code",
      "source": [],
      "metadata": {
        "id": "PJ5_Yu7Dkb4p"
      },
      "execution_count": null,
      "outputs": []
    },
    {
      "cell_type": "code",
      "execution_count": null,
      "metadata": {
        "colab": {
          "base_uri": "https://localhost:8080/"
        },
        "id": "Dci5mEIjkZKm",
        "outputId": "f550dc4f-3ffa-4e36-e2d9-31806c4c2f91"
      },
      "outputs": [
        {
          "output_type": "stream",
          "name": "stdout",
          "text": [
            "   square_feet_area  Year_built  over_all_condition ready_to_move  Sale_price\n",
            "0            8500.0      2003.0                 5.0           Yes      200000\n",
            "1            9600.0      1976.0                 8.0            No      180000\n",
            "2               NaN      2001.0                 6.0            NO      215000\n",
            "3           11250.0         NaN                 7.0           NaN      250000\n",
            "4               NaN      1998.0                 NaN            No      210000\n",
            "5            9550.0      2000.0                 7.0           NaN      190000\n",
            "6           14260.0      2006.0                 8.0            No      230000\n",
            "7               NaN      1978.0                 6.0           Yes      225000\n",
            "8           13830.0      1950.0                 NaN            No      220000\n",
            "9           11500.0         NaN                 7.0           Yes      240000\n"
          ]
        }
      ],
      "source": [
        "import pandas as pd\n",
        "import numpy as np\n",
        "import warnings\n",
        "warnings.filterwarnings('ignore')\n",
        "\n",
        "\n",
        "\n",
        "data = {\n",
        "    'square_feet_area': [8500, 9600, np.nan, 11250, np.nan, 9550, 14260, np.nan, 13830, 11500],  # Numeric\n",
        "    'Year_built': [2003, 1976, 2001, np.nan, 1998, 2000, 2006, 1978, 1950, np.nan],             # Numeric\n",
        "    'over_all_condition': [5, 8, 6, 7, np.nan, 7, 8, 6, np.nan, 7],                            # Numeric\n",
        "    'ready_to_move': ['Yes', 'No', 'NO', np.nan, 'No', np.nan, 'No', 'Yes', 'No', 'Yes'],      # Categorical (Yes/No)\n",
        "    'Sale_price': [200000, 180000, 215000, 250000, 210000, 190000, 230000, 225000, 220000, 240000]  # Target Variable (Numeric)\n",
        "}\n",
        "\n",
        "df = pd.DataFrame(data)\n",
        "\n",
        "print(df)\n"
      ]
    },
    {
      "cell_type": "code",
      "source": [
        "df['square_feet_area'].fillna(df['square_feet_area'].mean(), inplace=True)\n",
        "df['Year_built'].fillna(df['Year_built'].mean(), inplace=True)\n",
        "df['over_all_condition'].fillna(df['over_all_condition'].mean(), inplace=True)\n",
        "\n",
        "df['ready_to_move'].fillna(df['ready_to_move'].mode()[0], inplace=True)\n",
        "\n",
        "df = df.dropna()\n",
        "\n",
        "print(df)"
      ],
      "metadata": {
        "colab": {
          "base_uri": "https://localhost:8080/"
        },
        "id": "kbgWl6QAtBM9",
        "outputId": "4c908eb4-0c29-41fa-b604-ccaafaf1a58d"
      },
      "execution_count": null,
      "outputs": [
        {
          "output_type": "stream",
          "name": "stdout",
          "text": [
            "   square_feet_area  Year_built  over_all_condition ready_to_move  Sale_price\n",
            "0       8500.000000      2003.0                5.00           Yes      200000\n",
            "1       9600.000000      1976.0                8.00            No      180000\n",
            "2      11212.857143      2001.0                6.00            NO      215000\n",
            "3      11250.000000      1989.0                7.00            No      250000\n",
            "4      11212.857143      1998.0                6.75            No      210000\n",
            "5       9550.000000      2000.0                7.00            No      190000\n",
            "6      14260.000000      2006.0                8.00            No      230000\n",
            "7      11212.857143      1978.0                6.00           Yes      225000\n",
            "8      13830.000000      1950.0                6.75            No      220000\n",
            "9      11500.000000      1989.0                7.00           Yes      240000\n"
          ]
        }
      ]
    },
    {
      "cell_type": "code",
      "source": [],
      "metadata": {
        "id": "kTNqiTQUuJnP"
      },
      "execution_count": null,
      "outputs": []
    }
  ]
}