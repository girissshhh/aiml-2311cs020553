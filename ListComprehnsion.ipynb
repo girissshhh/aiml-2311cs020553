{
  "nbformat": 4,
  "nbformat_minor": 0,
  "metadata": {
    "colab": {
      "provenance": [],
      "authorship_tag": "ABX9TyM0z5HVNpjTajjK2TNORjxa",
      "include_colab_link": true
    },
    "kernelspec": {
      "name": "python3",
      "display_name": "Python 3"
    },
    "language_info": {
      "name": "python"
    }
  },
  "cells": [
    {
      "cell_type": "markdown",
      "metadata": {
        "id": "view-in-github",
        "colab_type": "text"
      },
      "source": [
        "<a href=\"https://colab.research.google.com/github/girissshhh/aiml-2311cs020553/blob/main/ListComprehnsion.ipynb\" target=\"_parent\"><img src=\"https://colab.research.google.com/assets/colab-badge.svg\" alt=\"Open In Colab\"/></a>"
      ]
    },
    {
      "cell_type": "code",
      "execution_count": 1,
      "metadata": {
        "colab": {
          "base_uri": "https://localhost:8080/"
        },
        "id": "slF57Ml9gket",
        "outputId": "40950e70-a696-4398-964b-ad1fe02b6fe3"
      },
      "outputs": [
        {
          "output_type": "stream",
          "name": "stdout",
          "text": [
            "(1.0, 2.0, 3.0)\n"
          ]
        }
      ],
      "source": [
        "list=[1,2,3,4]\n",
        "# res=[i for i in list]\n",
        "# print(res)\n",
        "\n",
        "# list1=[i+1 for i in range(1,20)]\n",
        "# print(list1)\n",
        "\n",
        "# res=[ i for i in list if i%2==0]\n",
        "# res1=[ j for j in list if j%2!=0]\n",
        "# print(\"even number\",res)\n",
        "# print(\"odd number\",res1)\n",
        "\n",
        "# words = [\"Lower\",\"a\",\"python\"]\n",
        "# lower = [i for i in words]\n",
        "# print(lower)\n",
        "\n",
        "\n",
        "# words = [\"Lower\",\"a\",\"python\"]\n",
        "# lower = [i.lower() for i in words]\n",
        "# lower = [i.upper() for i in words]\n",
        "# print(lower)\n",
        "\n",
        "# keys = [\"names\",\"age\",\"city\"]\n",
        "# values=[\"banglore\",25,\"hyderbad\"]\n",
        "# list=[i for i in list]\n",
        "# dict1 = {k:v for k,v in zip(keys,values)}\n",
        "# print(dict1)\n",
        "\n",
        "#tuples\n",
        "import math\n",
        "num = [1,4,9]\n",
        "sq=tuple(math.sqrt(i) for i in num)\n",
        "print(sq)\n"
      ]
    }
  ]
}